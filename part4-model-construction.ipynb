{
 "cells": [
  {
   "cell_type": "markdown",
   "metadata": {},
   "source": [
    "## NCAA March Madness Prediction (Pt. 4)"
   ]
  },
  {
   "cell_type": "code",
   "execution_count": 1,
   "metadata": {
    "collapsed": true
   },
   "outputs": [],
   "source": [
    "import numpy as np\n",
    "import pandas as pd\n",
    "import sklearn\n",
    "import sklearn.datasets\n",
    "import sklearn.linear_model\n",
    "import time\n",
    "from colorama import Fore\n",
    "\n",
    "import warnings\n",
    "warnings.filterwarnings(\"ignore\")"
   ]
  },
  {
   "cell_type": "markdown",
   "metadata": {},
   "source": [
    "#### Part 1: Import Training Data"
   ]
  },
  {
   "cell_type": "code",
   "execution_count": 2,
   "metadata": {
    "collapsed": false
   },
   "outputs": [
    {
     "name": "stdout",
     "output_type": "stream",
     "text": [
      "Shape: (9435, 66)\n",
      "Columns: ['3P' '3PA' '3PAr' 'AST' 'AST%' 'BLK' 'BLK%' 'FG' 'FGA' 'FT' 'FT/FGA'\n",
      " 'FTA' 'FTr' 'L' 'L.1' 'L.2' 'L.3' 'MP' 'ORB' 'ORB%' 'ORtg' 'Opp.'\n",
      " 'Opp_3P' 'Opp_3PA' 'Opp_3PAr' 'Opp_AST' 'Opp_AST%' 'Opp_BLK' 'Opp_BLK%'\n",
      " 'Opp_FG' 'Opp_FGA' 'Opp_FT' 'Opp_FT/FGA' 'Opp_FTA' 'Opp_FTr' 'Opp_ORB'\n",
      " 'Opp_ORB%' 'Opp_ORtg' 'Opp_PF' 'Opp_Pace' 'Opp_STL' 'Opp_STL%' 'Opp_TOV'\n",
      " 'Opp_TOV%' 'Opp_TRB' 'Opp_TRB%' 'Opp_TS%' 'Opp_eFG%' 'PF' 'Pace' 'SOS'\n",
      " 'SRS' 'STL' 'STL%' 'TOV' 'TOV%' 'TRB' 'TRB%' 'TS%' 'Tm.' 'W' 'W.1' 'W.2'\n",
      " 'W.3' 'eFG%' 'w_l']\n"
     ]
    },
    {
     "data": {
      "text/html": [
       "<div>\n",
       "<style>\n",
       "    .dataframe thead tr:only-child th {\n",
       "        text-align: right;\n",
       "    }\n",
       "\n",
       "    .dataframe thead th {\n",
       "        text-align: left;\n",
       "    }\n",
       "\n",
       "    .dataframe tbody tr th {\n",
       "        vertical-align: top;\n",
       "    }\n",
       "</style>\n",
       "<table border=\"1\" class=\"dataframe\">\n",
       "  <thead>\n",
       "    <tr style=\"text-align: right;\">\n",
       "      <th></th>\n",
       "      <th>3P</th>\n",
       "      <th>3PA</th>\n",
       "      <th>3PAr</th>\n",
       "      <th>AST</th>\n",
       "      <th>AST%</th>\n",
       "      <th>BLK</th>\n",
       "      <th>BLK%</th>\n",
       "      <th>FG</th>\n",
       "      <th>FGA</th>\n",
       "      <th>FT</th>\n",
       "      <th>...</th>\n",
       "      <th>TRB</th>\n",
       "      <th>TRB%</th>\n",
       "      <th>TS%</th>\n",
       "      <th>Tm.</th>\n",
       "      <th>W</th>\n",
       "      <th>W.1</th>\n",
       "      <th>W.2</th>\n",
       "      <th>W.3</th>\n",
       "      <th>eFG%</th>\n",
       "      <th>w_l</th>\n",
       "    </tr>\n",
       "  </thead>\n",
       "  <tbody>\n",
       "    <tr>\n",
       "      <th>0</th>\n",
       "      <td>5.0</td>\n",
       "      <td>-5.0</td>\n",
       "      <td>0.51</td>\n",
       "      <td>-3.80</td>\n",
       "      <td>2.0</td>\n",
       "      <td>-2.0</td>\n",
       "      <td>2.0</td>\n",
       "      <td>-1.0</td>\n",
       "      <td>2.0</td>\n",
       "      <td>-4.0</td>\n",
       "      <td>...</td>\n",
       "      <td>-0.045</td>\n",
       "      <td>-1.1</td>\n",
       "      <td>-3.6</td>\n",
       "      <td>0.9</td>\n",
       "      <td>-1.8</td>\n",
       "      <td>-0.059</td>\n",
       "      <td>2.7</td>\n",
       "      <td>-2.3</td>\n",
       "      <td>0.052</td>\n",
       "      <td>W</td>\n",
       "    </tr>\n",
       "    <tr>\n",
       "      <th>1</th>\n",
       "      <td>-7.0</td>\n",
       "      <td>6.0</td>\n",
       "      <td>-7.04</td>\n",
       "      <td>-3.02</td>\n",
       "      <td>-2.0</td>\n",
       "      <td>6.0</td>\n",
       "      <td>-4.0</td>\n",
       "      <td>4.0</td>\n",
       "      <td>-4.0</td>\n",
       "      <td>2.0</td>\n",
       "      <td>...</td>\n",
       "      <td>-0.004</td>\n",
       "      <td>2.5</td>\n",
       "      <td>-1.3</td>\n",
       "      <td>-0.1</td>\n",
       "      <td>-4.2</td>\n",
       "      <td>-0.012</td>\n",
       "      <td>1.7</td>\n",
       "      <td>4.5</td>\n",
       "      <td>0.039</td>\n",
       "      <td>L</td>\n",
       "    </tr>\n",
       "    <tr>\n",
       "      <th>2</th>\n",
       "      <td>-2.0</td>\n",
       "      <td>0.0</td>\n",
       "      <td>-3.46</td>\n",
       "      <td>-0.14</td>\n",
       "      <td>-2.0</td>\n",
       "      <td>2.0</td>\n",
       "      <td>-5.0</td>\n",
       "      <td>2.0</td>\n",
       "      <td>2.0</td>\n",
       "      <td>-2.0</td>\n",
       "      <td>...</td>\n",
       "      <td>0.000</td>\n",
       "      <td>-1.2</td>\n",
       "      <td>-1.3</td>\n",
       "      <td>0.0</td>\n",
       "      <td>-1.2</td>\n",
       "      <td>-0.007</td>\n",
       "      <td>3.5</td>\n",
       "      <td>1.9</td>\n",
       "      <td>0.063</td>\n",
       "      <td>W</td>\n",
       "    </tr>\n",
       "  </tbody>\n",
       "</table>\n",
       "<p>3 rows × 66 columns</p>\n",
       "</div>"
      ],
      "text/plain": [
       "    3P  3PA  3PAr   AST  AST%  BLK  BLK%   FG  FGA   FT ...     TRB  TRB%  \\\n",
       "0  5.0 -5.0  0.51 -3.80   2.0 -2.0   2.0 -1.0  2.0 -4.0 ...  -0.045  -1.1   \n",
       "1 -7.0  6.0 -7.04 -3.02  -2.0  6.0  -4.0  4.0 -4.0  2.0 ...  -0.004   2.5   \n",
       "2 -2.0  0.0 -3.46 -0.14  -2.0  2.0  -5.0  2.0  2.0 -2.0 ...   0.000  -1.2   \n",
       "\n",
       "   TS%  Tm.    W    W.1  W.2  W.3   eFG%  w_l  \n",
       "0 -3.6  0.9 -1.8 -0.059  2.7 -2.3  0.052    W  \n",
       "1 -1.3 -0.1 -4.2 -0.012  1.7  4.5  0.039    L  \n",
       "2 -1.3  0.0 -1.2 -0.007  3.5  1.9  0.063    W  \n",
       "\n",
       "[3 rows x 66 columns]"
      ]
     },
     "execution_count": 2,
     "metadata": {},
     "output_type": "execute_result"
    }
   ],
   "source": [
    "data = pd.read_csv(\"data/train_data.csv\")\n",
    "print(\"Shape:\",data.shape)\n",
    "print(\"Columns:\", data.columns.values)\n",
    "\n",
    "data.head(3)"
   ]
  },
  {
   "cell_type": "code",
   "execution_count": 3,
   "metadata": {
    "collapsed": false
   },
   "outputs": [
    {
     "data": {
      "text/html": [
       "<div>\n",
       "<style>\n",
       "    .dataframe thead tr:only-child th {\n",
       "        text-align: right;\n",
       "    }\n",
       "\n",
       "    .dataframe thead th {\n",
       "        text-align: left;\n",
       "    }\n",
       "\n",
       "    .dataframe tbody tr th {\n",
       "        vertical-align: top;\n",
       "    }\n",
       "</style>\n",
       "<table border=\"1\" class=\"dataframe\">\n",
       "  <thead>\n",
       "    <tr style=\"text-align: right;\">\n",
       "      <th></th>\n",
       "      <th>3P</th>\n",
       "      <th>3PA</th>\n",
       "      <th>3PAr</th>\n",
       "      <th>AST</th>\n",
       "      <th>AST%</th>\n",
       "      <th>BLK</th>\n",
       "      <th>BLK%</th>\n",
       "      <th>FG</th>\n",
       "      <th>FGA</th>\n",
       "      <th>FT</th>\n",
       "      <th>...</th>\n",
       "      <th>TOV%</th>\n",
       "      <th>TRB</th>\n",
       "      <th>TRB%</th>\n",
       "      <th>TS%</th>\n",
       "      <th>Tm.</th>\n",
       "      <th>W</th>\n",
       "      <th>W.1</th>\n",
       "      <th>W.2</th>\n",
       "      <th>W.3</th>\n",
       "      <th>eFG%</th>\n",
       "    </tr>\n",
       "  </thead>\n",
       "  <tbody>\n",
       "    <tr>\n",
       "      <th>0</th>\n",
       "      <td>5.0</td>\n",
       "      <td>-5.0</td>\n",
       "      <td>0.51</td>\n",
       "      <td>-3.80</td>\n",
       "      <td>2.0</td>\n",
       "      <td>-2.0</td>\n",
       "      <td>2.0</td>\n",
       "      <td>-1.0</td>\n",
       "      <td>2.0</td>\n",
       "      <td>-4.0</td>\n",
       "      <td>...</td>\n",
       "      <td>0.027</td>\n",
       "      <td>-0.045</td>\n",
       "      <td>-1.1</td>\n",
       "      <td>-3.6</td>\n",
       "      <td>0.9</td>\n",
       "      <td>-1.8</td>\n",
       "      <td>-0.059</td>\n",
       "      <td>2.7</td>\n",
       "      <td>-2.3</td>\n",
       "      <td>0.052</td>\n",
       "    </tr>\n",
       "    <tr>\n",
       "      <th>1</th>\n",
       "      <td>-7.0</td>\n",
       "      <td>6.0</td>\n",
       "      <td>-7.04</td>\n",
       "      <td>-3.02</td>\n",
       "      <td>-2.0</td>\n",
       "      <td>6.0</td>\n",
       "      <td>-4.0</td>\n",
       "      <td>4.0</td>\n",
       "      <td>-4.0</td>\n",
       "      <td>2.0</td>\n",
       "      <td>...</td>\n",
       "      <td>0.009</td>\n",
       "      <td>-0.004</td>\n",
       "      <td>2.5</td>\n",
       "      <td>-1.3</td>\n",
       "      <td>-0.1</td>\n",
       "      <td>-4.2</td>\n",
       "      <td>-0.012</td>\n",
       "      <td>1.7</td>\n",
       "      <td>4.5</td>\n",
       "      <td>0.039</td>\n",
       "    </tr>\n",
       "    <tr>\n",
       "      <th>2</th>\n",
       "      <td>-2.0</td>\n",
       "      <td>0.0</td>\n",
       "      <td>-3.46</td>\n",
       "      <td>-0.14</td>\n",
       "      <td>-2.0</td>\n",
       "      <td>2.0</td>\n",
       "      <td>-5.0</td>\n",
       "      <td>2.0</td>\n",
       "      <td>2.0</td>\n",
       "      <td>-2.0</td>\n",
       "      <td>...</td>\n",
       "      <td>0.015</td>\n",
       "      <td>0.000</td>\n",
       "      <td>-1.2</td>\n",
       "      <td>-1.3</td>\n",
       "      <td>0.0</td>\n",
       "      <td>-1.2</td>\n",
       "      <td>-0.007</td>\n",
       "      <td>3.5</td>\n",
       "      <td>1.9</td>\n",
       "      <td>0.063</td>\n",
       "    </tr>\n",
       "  </tbody>\n",
       "</table>\n",
       "<p>3 rows × 65 columns</p>\n",
       "</div>"
      ],
      "text/plain": [
       "    3P  3PA  3PAr   AST  AST%  BLK  BLK%   FG  FGA   FT  ...     TOV%    TRB  \\\n",
       "0  5.0 -5.0  0.51 -3.80   2.0 -2.0   2.0 -1.0  2.0 -4.0  ...    0.027 -0.045   \n",
       "1 -7.0  6.0 -7.04 -3.02  -2.0  6.0  -4.0  4.0 -4.0  2.0  ...    0.009 -0.004   \n",
       "2 -2.0  0.0 -3.46 -0.14  -2.0  2.0  -5.0  2.0  2.0 -2.0  ...    0.015  0.000   \n",
       "\n",
       "   TRB%  TS%  Tm.    W    W.1  W.2  W.3   eFG%  \n",
       "0  -1.1 -3.6  0.9 -1.8 -0.059  2.7 -2.3  0.052  \n",
       "1   2.5 -1.3 -0.1 -4.2 -0.012  1.7  4.5  0.039  \n",
       "2  -1.2 -1.3  0.0 -1.2 -0.007  3.5  1.9  0.063  \n",
       "\n",
       "[3 rows x 65 columns]"
      ]
     },
     "execution_count": 3,
     "metadata": {},
     "output_type": "execute_result"
    }
   ],
   "source": [
    "X = data[data.columns.difference([\"w_l\"])]\n",
    "X.head(3)"
   ]
  },
  {
   "cell_type": "code",
   "execution_count": 4,
   "metadata": {
    "collapsed": false
   },
   "outputs": [
    {
     "data": {
      "text/plain": [
       "0     True\n",
       "1    False\n",
       "2     True\n",
       "Name: w_l, dtype: bool"
      ]
     },
     "execution_count": 4,
     "metadata": {},
     "output_type": "execute_result"
    }
   ],
   "source": [
    "Y = (data.w_l == \"W\") # Defining 1 as Win, 0 as Loss\n",
    "Y.head(3)"
   ]
  },
  {
   "cell_type": "markdown",
   "metadata": {},
   "source": [
    "#### Part 2: Train / Test / Split Data"
   ]
  },
  {
   "cell_type": "code",
   "execution_count": 5,
   "metadata": {
    "collapsed": true
   },
   "outputs": [],
   "source": [
    "from sklearn.model_selection import train_test_split\n",
    "x_train, x_test, y_train, y_test = train_test_split(X, Y, test_size=0.25, random_state=42)"
   ]
  },
  {
   "cell_type": "markdown",
   "metadata": {},
   "source": [
    "#### Part 3: Logistic Regression Model "
   ]
  },
  {
   "cell_type": "code",
   "execution_count": 6,
   "metadata": {
    "collapsed": false
   },
   "outputs": [
    {
     "data": {
      "text/plain": [
       "LogisticRegression(C=1.0, class_weight=None, dual=False, fit_intercept=True,\n",
       "          intercept_scaling=1, max_iter=100, multi_class='ovr', n_jobs=1,\n",
       "          penalty='l2', random_state=None, solver='liblinear', tol=0.0001,\n",
       "          verbose=0, warm_start=False)"
      ]
     },
     "execution_count": 6,
     "metadata": {},
     "output_type": "execute_result"
    }
   ],
   "source": [
    "# Defining Loss Function\n",
    "def rmse(errors):\n",
    "    return np.sqrt(np.mean(errors**2))\n",
    "\n",
    "model = sklearn.linear_model.LogisticRegression(fit_intercept=True)\n",
    "model.fit(x_train, y_train)"
   ]
  },
  {
   "cell_type": "code",
   "execution_count": 7,
   "metadata": {
    "collapsed": false
   },
   "outputs": [
    {
     "data": {
      "text/plain": [
       "pandas.core.frame.DataFrame"
      ]
     },
     "execution_count": 7,
     "metadata": {},
     "output_type": "execute_result"
    }
   ],
   "source": [
    "train_predict = model.predict(x_train)\n",
    "test_predict = model.predict(x_test)\n",
    "\n",
    "type(x_train)"
   ]
  },
  {
   "cell_type": "code",
   "execution_count": 8,
   "metadata": {
    "collapsed": false
   },
   "outputs": [
    {
     "name": "stdout",
     "output_type": "stream",
     "text": [
      "Training:  0.5436687394007914\n",
      "Testing:  0.5180161085205596\n"
     ]
    }
   ],
   "source": [
    "train_accuracy = sum(train_predict == y_train) / len(y_train)\n",
    "test_accuracy = sum(test_predict == y_test) / len(y_test)\n",
    "\n",
    "# Uh oh, predictions are not very good, literally no better than flipping a coin\n",
    "print(\"Training: \", train_accuracy)\n",
    "print(\"Testing: \", test_accuracy)"
   ]
  },
  {
   "cell_type": "code",
   "execution_count": null,
   "metadata": {
    "collapsed": true
   },
   "outputs": [],
   "source": []
  }
 ],
 "metadata": {
  "kernelspec": {
   "display_name": "Python [ds100]",
   "language": "python",
   "name": "Python [ds100]"
  },
  "language_info": {
   "codemirror_mode": {
    "name": "ipython",
    "version": 3
   },
   "file_extension": ".py",
   "mimetype": "text/x-python",
   "name": "python",
   "nbconvert_exporter": "python",
   "pygments_lexer": "ipython3",
   "version": "3.6.3"
  }
 },
 "nbformat": 4,
 "nbformat_minor": 2
}
